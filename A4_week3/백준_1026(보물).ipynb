{
 "cells": [
  {
   "cell_type": "markdown",
   "metadata": {},
   "source": [
    " # **보물**\n",
    "https://www.acmicpc.net/problem/1026\n",
    "\n",
    " ## **문제**\n",
    " 옛날 옛적에 수학이 항상 큰 골칫거리였던 나라가 있었다. 이 나라의 국왕 김지민은 다음과 같은 문제를 내고 큰 상금을 걸었다.\n",
    "\n",
    "길이가 N인 정수 배열 A와 B가 있다. 다음과 같이 함수 S를 정의하자.\n",
    "\n",
    "S = A[0] × B[0] + ... + A[N-1] × B[N-1]\n",
    "\n",
    "S의 값을 가장 작게 만들기 위해 A의 수를 재배열하자. 단, B에 있는 수는 재배열하면 안 된다.\n",
    "\n",
    "S의 최솟값을 출력하는 프로그램을 작성하시오.\n",
    "\n",
    "## **입력**\n",
    "첫째 줄에 N이 주어진다. 둘째 줄에는 A에 있는 N개의 수가 순서대로 주어지고, 셋째 줄에는 B에 있는 수가 순서대로 주어진다. N은 50보다 작거나 같은 자연수이고, A와 B의 각 원소는 100보다 작거나 같은 음이 아닌 정수이다.\n",
    "\n",
    "## **출력**\n",
    "첫째 줄에 S의 최솟값을 출력한다.\n",
    "\n",
    "---\n",
    "### 예제입력1\n",
    ">5\n",
    ">\n",
    ">1 1 1 6 0\n",
    ">\n",
    ">2 7 8 3 1\n",
    "\n",
    "### 예제출력1\n",
    ">18\n",
    "\n",
    "### 예제입력2\n",
    ">3\n",
    ">\n",
    ">1 1 3\n",
    ">\n",
    ">10 30 20\n",
    "\n",
    "### 예제출력2\n",
    ">80\n",
    "\n",
    "### 예제입력3\n",
    ">9\n",
    ">\n",
    ">5 15 100 31 39 0 0 3 26\n",
    ">\n",
    ">11 12 13 2 3 4 5 9 1\n",
    "\n",
    "### 예제출력3\n",
    ">528\n",
    "\n",
    "---\n",
    "## **코드**"
   ]
  },
  {
   "cell_type": "code",
   "execution_count": null,
   "metadata": {},
   "outputs": [],
   "source": [
    "n = int(input())\n",
    "A = list(map(int, input().split()))\n",
    "B = list(map(int, input().split()))\n",
    "S = 0\n",
    "\n",
    "A.sort()\n",
    "B.sort(reverse=True)\n",
    "\n",
    "for i in range(n):\n",
    "\tS += A[i] * B[i]\n",
    "\n",
    "print(S)"
   ]
  },
  {
   "cell_type": "markdown",
   "metadata": {},
   "source": [
    "문제에서 B는 재정렬하지 말라고 되어있는 조건이 있어서 다른 방법으로 풀어야 한다. "
   ]
  },
  {
   "cell_type": "code",
   "execution_count": null,
   "metadata": {},
   "outputs": [],
   "source": [
    "# 수민언니코드\n",
    "k=int(input())\n",
    "A = list(map(int,input().split()[:k]))\n",
    "B= list(map(int,input().split()[:k]))\n",
    "\n",
    "#A의 작은수와 B의 큰수를 곱한다.\n",
    "A.sort()\n",
    "maxB=max(B)\n",
    "result=0\n",
    "\n",
    "for a in A:\n",
    "    result += a * maxB\n",
    "    B.remove(maxB)  # B 배열에서 가장 큰 수를 제거\n",
    "    if len(B) > 0:\n",
    "        maxB = max(B)  # B 배열의 가장 큰 수 갱신\n",
    "\n",
    "print(result)"
   ]
  }
 ],
 "metadata": {
  "language_info": {
   "name": "python"
  }
 },
 "nbformat": 4,
 "nbformat_minor": 2
}
