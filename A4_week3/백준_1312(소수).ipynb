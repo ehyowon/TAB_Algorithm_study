{
 "cells": [
  {
   "cell_type": "markdown",
   "metadata": {},
   "source": [
    "# **소수**\n",
    "https://www.acmicpc.net/problem/1312 \n",
    "\n",
    "## **문제**\n",
    "피제수(분자) A와 제수(분모) B가 있다. 두 수를 나누었을 때, 소숫점 아래 N번째 자리수를 구하려고 한다. 예를 들어, A=3, B=4, N=1이라면, A÷B=0.75 이므로 출력 값은 7이 된다.\n",
    "\n",
    "## **입력**\n",
    "첫 번째 줄에 A와 B(1 ≤ A, B ≤ 100,000), N(1 ≤ N ≤ 1,000,000)이 공백을 경계로 주어진다.\n",
    "\n",
    "## **출력**\n",
    "A÷B를 했을 때, 소숫점 아래 N번째 수를 출력한다.\n",
    "\n",
    "---\n",
    "\n",
    "### 예제입력\n",
    ">25 7 5\n",
    "\n",
    "### 예제출력\n",
    ">2\n",
    "\n",
    "---\n",
    "\n",
    "## **코드**"
   ]
  },
  {
   "cell_type": "code",
   "execution_count": null,
   "metadata": {},
   "outputs": [],
   "source": [
    "a, b, n = map(int, input().split())\n",
    "\n",
    "c = a / b\n",
    "for _ in range(n):\n",
    "\tc *= 10\n",
    "\n",
    "print(int(c % 10))"
   ]
  },
  {
   "cell_type": "markdown",
   "metadata": {},
   "source": [
    "이렇게 제출하니 런타임에러가 뜸.\n",
    "\n",
    "> 런타임 에러가 발생하는 이유는 입력 범위에 대한 제한을 넘어섰기 때문입니다. 문제 조건에서 A, B, N의 범위가 각각 1 이상 100,000 이하, 1 이상 1,000,000 이하로 주어졌지만, 주어진 코드는 N이 최대 1,000,000일 때를 고려하지 않고 있습니다. 특히, 입력값을 처리하는 방식에서 숫자의 크기가 커질수록 연산이 복잡해지며 메모리 사용량이 증가할 수 있습니다."
   ]
  },
  {
   "cell_type": "code",
   "execution_count": null,
   "metadata": {},
   "outputs": [],
   "source": [
    "a, b, n = map(int, input().split())\n",
    "\n",
    "result = (a * 10**n) // b\n",
    "\n",
    "print(result % 10)"
   ]
  },
  {
   "cell_type": "markdown",
   "metadata": {},
   "source": [
    "result라는 새로운 변수에 A를 10^n을 곱해준 뒤 B로 나누면 결과가 소수점 아래 N자리까지 정확히 계산하면 이러한 문제가 발생하지 않는다."
   ]
  }
 ],
 "metadata": {
  "language_info": {
   "name": "python"
  }
 },
 "nbformat": 4,
 "nbformat_minor": 2
}
