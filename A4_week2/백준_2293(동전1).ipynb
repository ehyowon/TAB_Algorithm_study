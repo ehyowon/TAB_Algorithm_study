{
 "cells": [
  {
   "cell_type": "markdown",
   "metadata": {},
   "source": [
    "# **동전1**\n",
    "https://www.acmicpc.net/problem/2293\n",
    "\n",
    "## **문제**\n",
    "n가지 종류의 동전이 있다. 각각의 동전이 나타내는 가치는 다르다. 이 동전을 적당히 사용해서, 그 가치의 합이 k원이 되도록 하고 싶다. 그 경우의 수를 구하시오. 각각의 동전은 몇 개라도 사용할 수 있다.\n",
    "\n",
    "사용한 동전의 구성이 같은데, 순서만 다른 것은 같은 경우이다.\n",
    "\n",
    "## **입력**\n",
    "첫째 줄에 n, k가 주어진다. (1 ≤ n ≤ 100, 1 ≤ k ≤ 10,000) 다음 n개의 줄에는 각각의 동전의 가치가 주어진다. 동전의 가치는 100,000보다 작거나 같은 자연수이다.\n",
    "\n",
    "## **출력**\n",
    "첫째 줄에 경우의 수를 출력한다. 경우의 수는 2^31보다 작다.\n",
    "\n",
    "---\n",
    "\n",
    "### 예제입력1\n",
    ">3 10\n",
    ">\n",
    ">1\n",
    ">\n",
    ">2\n",
    ">\n",
    ">5\n",
    "\n",
    "### 예제출력1\n",
    ">10\n",
    "\n",
    "---\n",
    "\n",
    "## **코드**"
   ]
  },
  {
   "cell_type": "code",
   "execution_count": null,
   "metadata": {},
   "outputs": [],
   "source": [
    "n, k = map(int, input().split())\n",
    "arr = []\n",
    "\n",
    "for _ in range(n):\n",
    "\tcoin = int(input())\n",
    "\tarr.append(coin)\n",
    "\n",
    "arr.sort(reverse=True)\n",
    "\n",
    "def sum(a, arr):\n",
    "\ttotal = a\n",
    "\tfor i in range(len(arr)):\n",
    "\t\tif total == 0:\n",
    "\t\t\tbreak\n",
    "\t\t\ttotal %= arr[i]\n",
    "\treturn total\n",
    "\n",
    "print(sum(k, arr))"
   ]
  },
  {
   "cell_type": "markdown",
   "metadata": {},
   "source": [
    "배열 정렬`arr.sort()` -> 거꾸로 정렬하기`arr.sort(reverse=True)`"
   ]
  },
  {
   "cell_type": "markdown",
   "metadata": {},
   "source": [
    "모르겠다.... 인터넷 검색해보니까 DP 그거 쓰는거라던데 누가 설명좀\n",
    "\n",
    "근데 디피 안쓰고 풀어보고싶어요! 가능한가?"
   ]
  }
 ],
 "metadata": {
  "language_info": {
   "name": "python"
  }
 },
 "nbformat": 4,
 "nbformat_minor": 2
}
