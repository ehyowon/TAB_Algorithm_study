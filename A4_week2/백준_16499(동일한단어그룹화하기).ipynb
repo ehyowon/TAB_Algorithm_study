{
 "cells": [
  {
   "cell_type": "markdown",
   "metadata": {},
   "source": [
    "# **동일한 단어 그룹화하기**\n",
    "\n",
    "## **문제**\n",
    "소문자로 이루어진 단어 N개가 주어졌을 때, 단어가 총 최소 몇 개의 그룹으로 이루어져 있는지 구하는 프로그램을 작성하시오.\n",
    "\n",
    "그룹에 속한 단어는 모두 같은 알파벳으로 이루어져 있어야 하고, 개수도 같아야 한다. 즉, 단어를 구성하는 알파벳의 순서만 달라야 한다.\n",
    "\n",
    "## **입력**\n",
    "첫째 줄에 단어의 개수 N이 주어진다. (2 ≤ N ≤ 100) 둘째 줄부터 N개의 줄에 단어가 한 줄에 하나씩 주어진다. 단어는 알파벳 소문자로만 이루어져 있고, 길이는 10을 넘지 않는다.\n",
    "\n",
    "## **출력**\n",
    "첫째 줄에 그룹의 최소 개수를 출력한다.\n",
    "\n",
    "---\n",
    "\n",
    "### 예제입력1\n",
    ">4\n",
    ">\n",
    ">cat\n",
    ">\n",
    ">dog\n",
    ">\n",
    ">god\n",
    ">\n",
    ">tca\n",
    "\n",
    "### 예제출력1\n",
    ">2\n",
    "\n",
    "### 예제입력2\n",
    ">2\n",
    ">\n",
    ">a\n",
    ">\n",
    ">a\n",
    "\n",
    "### 예제출력2\n",
    ">1\n",
    "\n",
    "---\n",
    "## **코드**"
   ]
  },
  {
   "cell_type": "code",
   "execution_count": null,
   "metadata": {},
   "outputs": [],
   "source": [
    "n = int(input())\n",
    "arr = []\n",
    "for _ in range(n):\n",
    "\ts = input()\n",
    "\tarr.append(s)\n",
    "\n",
    "cnt = 0 \n",
    "for s in arr:\n",
    "\ts = ''.join(sorted(s)) \n",
    "\twhile len(arr) > 0:\n",
    "\t\tcnt += 1\n",
    "\t\tarr.remove(s) \n",
    "print(cnt)"
   ]
  },
  {
   "cell_type": "markdown",
   "metadata": {},
   "source": [
    "`s = ''.join(sorted(s))`\n",
    "\n",
    "sort() 함수를 사용하려고 했으나 그건 int에서만 사용 가능하다고 하여 오류 발생.\n",
    "\n",
    "그래서 찾아보니 문자열에서는 sorted()함수를 써야한다고 한다."
   ]
  },
  {
   "cell_type": "markdown",
   "metadata": {},
   "source": [
    "`arr.remove(s)`\n",
    "\n",
    "원래는 arr.pop() 쓰려고 했는데 이것도 int에서만 사용 가능하다고 해서 remove()함수를 사용함. 근데도 오류남 ㅋ"
   ]
  },
  {
   "cell_type": "code",
   "execution_count": null,
   "metadata": {},
   "outputs": [],
   "source": [
    "n = int(input())\n",
    "arr = []\n",
    "\n",
    "for _ in range(n):\n",
    "\ts = sorted(list(input())) # 입력받은 문자열들을 알파벳 단위로 잘라서 리스트에 저장 후 정렬\n",
    "\ts = ''.join(s) # 정렬된 문자열을 다시 합치기\n",
    "\tif s not in arr:\n",
    "\t\tarr.append(s) # arr에 해당 단어가 없다면 추가\n",
    "\n",
    "print(len(arr)) # 앞의 과정을 통해 추출된 단어들이 담긴 리스트의 개수 = 나눌 수 있는 그룹의 수"
   ]
  },
  {
   "cell_type": "markdown",
   "metadata": {},
   "source": [
    "`s = sorted(list(input()))`\n",
    "\n",
    "이렇게 입력받은(input) 문자열을 알파벳 단위로 잘라서 리스트에 저장 후(list) 바로 정렬(sorted)하는 방법이 있었다 !!"
   ]
  },
  {
   "cell_type": "markdown",
   "metadata": {},
   "source": [
    "`print(len(arr))`\n",
    "\n",
    "나처럼 직접 개수를 세지 않고 서로 다른 단어들을 배열에 넣은 뒤 그 배열의 길이를 출력하는 방법 !"
   ]
  }
 ],
 "metadata": {
  "language_info": {
   "name": "python"
  }
 },
 "nbformat": 4,
 "nbformat_minor": 2
}
