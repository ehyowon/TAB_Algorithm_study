{
 "cells": [
  {
   "cell_type": "markdown",
   "metadata": {},
   "source": [
    "# **소수찾기**\n",
    "\n",
    "## **문제**\n",
    "주어진 수 N개 중에서 소수가 몇 개인지 찾아서 출력하는 프로그램을 작성하시오.\n",
    "\n",
    "## **입력**\n",
    "첫 줄에 수의 개수 N이 주어진다. N은 100이하이다. 다음으로 N개의 수가 주어지는데 수는 1,000 이하의 자연수이다.\n",
    "\n",
    "## **출력**\n",
    "주어진 수들 중 소수의 개수를 출력한다.\n",
    "\n",
    "---\n",
    "\n",
    "### 예제입력\n",
    ">4\n",
    ">\n",
    ">1 3 5 7\n",
    "\n",
    "### 예제출력\n",
    ">3\n",
    "---\n",
    "\n",
    "## **코드**"
   ]
  },
  {
   "cell_type": "code",
   "execution_count": null,
   "metadata": {},
   "outputs": [],
   "source": [
    "n = int(input())\n",
    "cnt = 0\n",
    "\n",
    "def sosu(a):\n",
    "\tif a == 1:\n",
    "\t\treturn False\n",
    "\tfor i in range(2, a):\n",
    "\t\tif a % i == 0:\n",
    "\t\t\treturn False\n",
    "\treturn True\n",
    "\n",
    "numbers = input().split()\n",
    "numbers = [int(num) for num in numbers]\n",
    "\n",
    "for num in numbers:\n",
    "\tif sosu(num) == True:\n",
    "\t\tcnt += 1\n",
    "\n",
    "print(cnt)"
   ]
  },
  {
   "cell_type": "markdown",
   "metadata": {},
   "source": [
    "1 3 5 7 로 입력 받으면 string으로 인식, ,split()함수를 이용해서 나누고, int()함수를 이용해서 정수로 바꿔주어야함.\n",
    "\n",
    "⬇️ 이 부분을 더 간단하게 한 줄로 표현하는 방법 "
   ]
  },
  {
   "cell_type": "code",
   "execution_count": null,
   "metadata": {},
   "outputs": [],
   "source": [
    "numbers = list(map(int, input().split()))"
   ]
  }
 ],
 "metadata": {
  "language_info": {
   "name": "python"
  }
 },
 "nbformat": 4,
 "nbformat_minor": 2
}
