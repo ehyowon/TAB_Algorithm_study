{
 "cells": [
  {
   "cell_type": "markdown",
   "metadata": {},
   "source": [
    "# **접미사 배열**\n",
    "\n",
    "## **문제**\n",
    "접미사 배열은 문자열 S의 모든 접미사를 사전순으로 정렬해 놓은 배열이다.\n",
    "\n",
    "baekjoon의 접미사는 baekjoon, aekjoon, ekjoon, kjoon, joon, oon, on, n 으로 총 8가지가 있고, 이를 사전순으로 정렬하면, aekjoon, baekjoon, ekjoon, joon, kjoon, n, on, oon이 된다.\n",
    "\n",
    "문자열 S가 주어졌을 때, 모든 접미사를 사전순으로 정렬한 다음 출력하는 프로그램을 작성하시오.\n",
    "\n",
    "## **입력**\n",
    "\n",
    "첫째 줄에 문자열 S가 주어진다. S는 알파벳 소문자로만 이루어져 있고, 길이는 1,000보다 작거나 같다.\n",
    "\n",
    "## **출력**\n",
    "\n",
    "첫째 줄부터 S의 접미사를 사전순으로 한 줄에 하나씩 출력한다."
   ]
  },
  {
   "cell_type": "markdown",
   "metadata": {},
   "source": [
    "---\n",
    "### 예제입력\n",
    "> baekjoon\n",
    "\n",
    "### 예제출력\n",
    ">aekjoon\n",
    ">\n",
    ">baekjoon\n",
    ">\n",
    ">ekjoon\n",
    ">\n",
    ">joon\n",
    ">\n",
    ">kjoon\n",
    ">\n",
    ">n\n",
    ">\n",
    ">on\n",
    ">\n",
    ">oon\n"
   ]
  },
  {
   "cell_type": "markdown",
   "metadata": {},
   "source": [
    "---\n",
    "## **코드**"
   ]
  },
  {
   "cell_type": "code",
   "execution_count": null,
   "metadata": {},
   "outputs": [],
   "source": [
    "S = input()\n",
    "arr = []\n",
    "\n",
    "for i in range(len(S)):\n",
    "    copy = S[i:]\n",
    "    arr.append(copy)\n",
    "\n",
    "arr.sort()\n",
    "for i in range(len(S)):\n",
    "    print(arr[i])"
   ]
  }
 ],
 "metadata": {
  "language_info": {
   "name": "python"
  }
 },
 "nbformat": 4,
 "nbformat_minor": 2
}
