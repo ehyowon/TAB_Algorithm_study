{
 "cells": [
  {
   "cell_type": "markdown",
   "metadata": {},
   "source": [
    "# **돌 게임**\n",
    "\n",
    "## **문제**\n",
    "돌 게임은 두 명이서 즐기는 재밌는 게임이다.\n",
    "\n",
    "탁자 위에 돌 N개가 있다. 상근이와 창영이는 턴을 번갈아가면서 돌을 가져가며, 돌은 1개 또는 3개 가져갈 수 있다. 마지막 돌을 가져가는 사람이 게임을 이기게 된다.\n",
    "\n",
    "두 사람이 완벽하게 게임을 했을 때, 이기는 사람을 구하는 프로그램을 작성하시오. 게임은 상근이가 먼저 시작한다.\n",
    "\n",
    "## **입력**\n",
    "첫째 줄에 N이 주어진다. (1 ≤ N ≤ 1000)\n",
    "\n",
    "## **출력**\n",
    "상근이가 게임을 이기면 SK를, 창영이가 게임을 이기면 CY을 출력한다.\n",
    "\n",
    "---\n",
    "\n",
    "### 예제입력\n",
    ">5\n",
    "\n",
    "### 예제출력\n",
    ">SK\n",
    "\n",
    "---\n",
    "\n",
    "## **코드**"
   ]
  },
  {
   "cell_type": "code",
   "execution_count": null,
   "metadata": {},
   "outputs": [],
   "source": [
    "n = int(input())\n",
    "\n",
    "if n%2 == 1:\n",
    "\tprint(\"SK\")\n",
    "else:\n",
    "\tprint(\"CY\")"
   ]
  }
 ],
 "metadata": {
  "language_info": {
   "name": "python"
  }
 },
 "nbformat": 4,
 "nbformat_minor": 2
}
